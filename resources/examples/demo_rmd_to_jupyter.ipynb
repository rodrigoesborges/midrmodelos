{
    "cells": [
        {
            "cell_type": "markdown",
            "metadata": {},
            "source": [
                "![logo](images/logo.png)\n",
                "\n",
                "## Short introduction\n",
                "\n",
                "This is a short demo on how to convert an R Markdown file into a Jupyter Notebook using \n",
                "this template.\n",
                "\n",
                "`UHHformats::rmd_to_jupyter` is a custom knit function that converts your R Markdown file into\n",
                "a [Jupyter Notebook](https://jupyter.org/) (formerly known as IPython Notebook, hence, the file extension\n",
                "`.ipynb`). Jupyter Notebook files are simple JSON documents, that contain text, source code,\n",
                "rich media output, and metadata where each segment of the document is stored in a cell. This\n",
                "function converts the R Markdown code directly into a prettified JSON string using \n",
                "`jsonlite::toJSON` and `jsonlite::prettify` and saves it in an `.ipynb` file once you click \n",
                "the *knit* button.\n",
                "\n",
                "To run this function you don't have to have more than the R package `jsonlite` installed.\n",
                "\n",
                "\n",
                "#### Data\n",
                "\n",
                "We will use the ubiquitous [iris](http://stat.ethz.ch/R-manual/R-patched/library/datasets/html/iris.html) dataset.\n"
            ]
        },
        {
            "cell_type": "code",
            "execution_count": null,
            "metadata": {},
            "outputs": [],
            "source": "head(iris)"
        },
        {
            "cell_type": "markdown",
            "metadata": {},
            "source": [
                "### Graphics\n",
                "\n",
                "#### Base graphics \n",
                "\n",
                "Let's create a simple scatterplot of `Sepal.Length` and `Sepal.Width`.\n"
            ]
        },
        {
            "cell_type": "code",
            "execution_count": null,
            "metadata": {},
            "outputs": [],
            "source": [
                "plot(iris$Sepal.L ~ iris$Sepal.Width,\n",
                "    ylab = 'Sepal length',\n",
                "    xlab = 'Sepal width')"
            ]
        },
        {
            "cell_type": "markdown",
            "metadata": {},
            "source": [
                "#### ggplot2 graphics\n",
                "\n",
                "To run the following line of code make sure that you have `ggplot2` installed in Jupyter Notebook, using the `install.packages` function.\n",
                "Once it is installed, you can get started by loading it into your workspace as you would do in R or R Studio:\n"
            ]
        },
        {
            "cell_type": "code",
            "execution_count": null,
            "metadata": {},
            "outputs": [],
            "source": "library(ggplot2)"
        },
        {
            "cell_type": "markdown",
            "metadata": {},
            "source": "Here comes the same plot now made with ggplot2:\n"
        },
        {
            "cell_type": "code",
            "execution_count": null,
            "metadata": {},
            "outputs": [],
            "source": [
                "ggplot(iris, aes(x = Sepal.Length, y = Petal.Length)) +\n",
                " geom_point()"
            ]
        }
    ],
    "metadata": {
        "anaconda-cloud": "",
        "kernelspec": {
            "display_name": "R",
            "langauge": "R",
            "name": "ir"
        },
        "language_info": {
            "codemirror_mode": "r",
            "file_extension": ".r",
            "mimetype": "text/x-r-source",
            "name": "R",
            "pygments_lexer": "r",
            "version": "3.4.1"
        }
    },
    "nbformat": 4,
    "nbformat_minor": 1
}
